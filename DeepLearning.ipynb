{
  "nbformat": 4,
  "nbformat_minor": 0,
  "metadata": {
    "colab": {
      "provenance": [],
      "gpuType": "T4",
      "authorship_tag": "ABX9TyM4jLkNWdpiSbUyYwY/wkFp",
      "include_colab_link": true
    },
    "kernelspec": {
      "name": "python3",
      "display_name": "Python 3"
    },
    "language_info": {
      "name": "python"
    },
    "accelerator": "GPU"
  },
  "cells": [
    {
      "cell_type": "markdown",
      "metadata": {
        "id": "view-in-github",
        "colab_type": "text"
      },
      "source": [
        "<a href=\"https://colab.research.google.com/github/sanu00007/Deep_Learning/blob/main/DeepLearning.ipynb\" target=\"_parent\"><img src=\"https://colab.research.google.com/assets/colab-badge.svg\" alt=\"Open In Colab\"/></a>"
      ]
    },
    {
      "cell_type": "code",
      "execution_count": 3,
      "metadata": {
        "id": "Ktnpl5g1xkhb"
      },
      "outputs": [],
      "source": [
        "\n",
        "import torch"
      ]
    },
    {
      "cell_type": "code",
      "source": [
        "\n"
      ],
      "metadata": {
        "id": "6SJghvBjyGv-"
      },
      "execution_count": 3,
      "outputs": []
    },
    {
      "cell_type": "code",
      "source": [
        " import torch\n",
        " import numpy as np"
      ],
      "metadata": {
        "id": "KzIUkyaOybGk"
      },
      "execution_count": 4,
      "outputs": []
    },
    {
      "cell_type": "markdown",
      "source": [
        "**LISTS**"
      ],
      "metadata": {
        "id": "AYq-gewL6uXw"
      }
    },
    {
      "cell_type": "code",
      "source": [
        "\n",
        "my_list = [[1,2,3,4,5],[6,7,8,9,10]]\n",
        "my_list"
      ],
      "metadata": {
        "colab": {
          "base_uri": "https://localhost:8080/"
        },
        "id": "wTqLfBBa6WEJ",
        "outputId": "0c8539db-e463-461e-9ced-bc44442b134b"
      },
      "execution_count": 5,
      "outputs": [
        {
          "output_type": "execute_result",
          "data": {
            "text/plain": [
              "[[1, 2, 3, 4, 5], [6, 7, 8, 9, 10]]"
            ]
          },
          "metadata": {},
          "execution_count": 5
        }
      ]
    },
    {
      "cell_type": "markdown",
      "source": [
        "**NUMPY ARRAYS**\n"
      ],
      "metadata": {
        "id": "smv9cArX6242"
      }
    },
    {
      "cell_type": "code",
      "source": [
        "np1 = np.random.rand(3,4)\n",
        "np1"
      ],
      "metadata": {
        "colab": {
          "base_uri": "https://localhost:8080/"
        },
        "id": "jMG3Q0Z96jA_",
        "outputId": "417bd578-8921-4482-823e-0f7ce2f03b69"
      },
      "execution_count": 6,
      "outputs": [
        {
          "output_type": "execute_result",
          "data": {
            "text/plain": [
              "array([[0.17653805, 0.91306783, 0.51954351, 0.84132699],\n",
              "       [0.49023092, 0.48539937, 0.10001443, 0.9027279 ],\n",
              "       [0.00584997, 0.81530654, 0.45842248, 0.21352652]])"
            ]
          },
          "metadata": {},
          "execution_count": 6
        }
      ]
    },
    {
      "cell_type": "markdown",
      "source": [
        "**TENSORS**"
      ],
      "metadata": {
        "id": "y2pDjZpn7bQM"
      }
    },
    {
      "cell_type": "code",
      "source": [
        "tensor_2d = torch.randn(3,4)\n",
        "tensor_2d\n"
      ],
      "metadata": {
        "colab": {
          "base_uri": "https://localhost:8080/"
        },
        "id": "Gnd8_gju7Zlc",
        "outputId": "dc4ca92e-e3d0-4cf4-8637-b2fc6bafdf74"
      },
      "execution_count": 7,
      "outputs": [
        {
          "output_type": "execute_result",
          "data": {
            "text/plain": [
              "tensor([[ 1.5687,  0.9793,  0.4441,  0.7634],\n",
              "        [-0.8844, -0.2985,  0.3907, -0.2270],\n",
              "        [ 1.0254,  1.5350,  1.5518,  0.1222]])"
            ]
          },
          "metadata": {},
          "execution_count": 7
        }
      ]
    },
    {
      "cell_type": "code",
      "source": [
        "tenser_3d = torch.zeros(2,3,4)\n",
        "tenser_3d"
      ],
      "metadata": {
        "colab": {
          "base_uri": "https://localhost:8080/"
        },
        "id": "nQPoW4g77h7S",
        "outputId": "87ba1449-887f-4a52-ddd6-a150a1ef1414"
      },
      "execution_count": 8,
      "outputs": [
        {
          "output_type": "execute_result",
          "data": {
            "text/plain": [
              "tensor([[[0., 0., 0., 0.],\n",
              "         [0., 0., 0., 0.],\n",
              "         [0., 0., 0., 0.]],\n",
              "\n",
              "        [[0., 0., 0., 0.],\n",
              "         [0., 0., 0., 0.],\n",
              "         [0., 0., 0., 0.]]])"
            ]
          },
          "metadata": {},
          "execution_count": 8
        }
      ]
    },
    {
      "cell_type": "code",
      "source": [
        "my_tensor = torch.tensor(np1)\n",
        "my_tensor"
      ],
      "metadata": {
        "colab": {
          "base_uri": "https://localhost:8080/"
        },
        "id": "lETDlFfb7zyU",
        "outputId": "31263660-a302-46b8-e2fe-a0f3d1ecc6d6"
      },
      "execution_count": 9,
      "outputs": [
        {
          "output_type": "execute_result",
          "data": {
            "text/plain": [
              "tensor([[0.1765, 0.9131, 0.5195, 0.8413],\n",
              "        [0.4902, 0.4854, 0.1000, 0.9027],\n",
              "        [0.0058, 0.8153, 0.4584, 0.2135]], dtype=torch.float64)"
            ]
          },
          "metadata": {},
          "execution_count": 9
        }
      ]
    },
    {
      "cell_type": "markdown",
      "source": [
        "****"
      ],
      "metadata": {
        "id": "FvU5mNd38rH8"
      }
    },
    {
      "cell_type": "code",
      "source": [
        "my_torch = torch.arange(10)\n",
        "my_torch\n"
      ],
      "metadata": {
        "colab": {
          "base_uri": "https://localhost:8080/"
        },
        "id": "W2UnXZCu79eu",
        "outputId": "baa42afa-9974-4985-f387-d9d1dcd7d2cd"
      },
      "execution_count": 10,
      "outputs": [
        {
          "output_type": "execute_result",
          "data": {
            "text/plain": [
              "tensor([0, 1, 2, 3, 4, 5, 6, 7, 8, 9])"
            ]
          },
          "metadata": {},
          "execution_count": 10
        }
      ]
    },
    {
      "cell_type": "code",
      "source": [
        "#reshape and view\n",
        "my_torch = my_torch.reshape(2,5)\n",
        "my_torch"
      ],
      "metadata": {
        "colab": {
          "base_uri": "https://localhost:8080/"
        },
        "id": "3EDW2hoE84Ut",
        "outputId": "0ce6fcb4-2d19-4dba-cecc-a4feb7752d5f"
      },
      "execution_count": 11,
      "outputs": [
        {
          "output_type": "execute_result",
          "data": {
            "text/plain": [
              "tensor([[0, 1, 2, 3, 4],\n",
              "        [5, 6, 7, 8, 9]])"
            ]
          },
          "metadata": {},
          "execution_count": 11
        }
      ]
    },
    {
      "cell_type": "code",
      "source": [
        "#reshape if we dont know the number of item"
      ],
      "metadata": {
        "id": "pbhXMeN786wE"
      },
      "execution_count": 12,
      "outputs": []
    },
    {
      "cell_type": "code",
      "source": [
        "my_torch2 = torch.arange(10)"
      ],
      "metadata": {
        "id": "NDl2eSeB9Hns"
      },
      "execution_count": 13,
      "outputs": []
    },
    {
      "cell_type": "code",
      "source": [
        "my_torch2 = my_torch2.reshape(-1,5) #or(5,-1)\n",
        "my_torch2"
      ],
      "metadata": {
        "colab": {
          "base_uri": "https://localhost:8080/"
        },
        "id": "51twvciD9K-8",
        "outputId": "9423ff77-ab03-49c9-aad3-e1dca15b8b7c"
      },
      "execution_count": 14,
      "outputs": [
        {
          "output_type": "execute_result",
          "data": {
            "text/plain": [
              "tensor([[0, 1, 2, 3, 4],\n",
              "        [5, 6, 7, 8, 9]])"
            ]
          },
          "metadata": {},
          "execution_count": 14
        }
      ]
    },
    {
      "cell_type": "code",
      "source": [
        "#view"
      ],
      "metadata": {
        "id": "5n2hBzSQ9QY2"
      },
      "execution_count": 15,
      "outputs": []
    },
    {
      "cell_type": "code",
      "source": [
        "my_torch3 = torch.arange(10)\n",
        "my_torch3"
      ],
      "metadata": {
        "colab": {
          "base_uri": "https://localhost:8080/"
        },
        "id": "t8t1ugc09hmJ",
        "outputId": "cfe38b6d-9a48-4d52-d387-4a95b9e08a58"
      },
      "execution_count": 16,
      "outputs": [
        {
          "output_type": "execute_result",
          "data": {
            "text/plain": [
              "tensor([0, 1, 2, 3, 4, 5, 6, 7, 8, 9])"
            ]
          },
          "metadata": {},
          "execution_count": 16
        }
      ]
    },
    {
      "cell_type": "code",
      "source": [
        "my_torch4 = my_torch3.view(-1,5)\n",
        "my_torch4"
      ],
      "metadata": {
        "colab": {
          "base_uri": "https://localhost:8080/"
        },
        "id": "fbWOw6_i9kHe",
        "outputId": "9024c6bd-37c2-4655-a041-c2a57c714e2c"
      },
      "execution_count": 17,
      "outputs": [
        {
          "output_type": "execute_result",
          "data": {
            "text/plain": [
              "tensor([[0, 1, 2, 3, 4],\n",
              "        [5, 6, 7, 8, 9]])"
            ]
          },
          "metadata": {},
          "execution_count": 17
        }
      ]
    },
    {
      "cell_type": "code",
      "source": [
        "my_torch5 = torch.arange(10)"
      ],
      "metadata": {
        "id": "X0Mt85bY9n7a"
      },
      "execution_count": 18,
      "outputs": []
    },
    {
      "cell_type": "code",
      "source": [
        "my_torch5"
      ],
      "metadata": {
        "colab": {
          "base_uri": "https://localhost:8080/"
        },
        "id": "xagfjcvE-Dws",
        "outputId": "89e1ee10-d953-4576-f9ac-0247861d75bd"
      },
      "execution_count": 19,
      "outputs": [
        {
          "output_type": "execute_result",
          "data": {
            "text/plain": [
              "tensor([0, 1, 2, 3, 4, 5, 6, 7, 8, 9])"
            ]
          },
          "metadata": {},
          "execution_count": 19
        }
      ]
    },
    {
      "cell_type": "code",
      "source": [
        "my_torch6 = my_torch5.reshape(2,5)\n",
        "my_torch6"
      ],
      "metadata": {
        "colab": {
          "base_uri": "https://localhost:8080/"
        },
        "id": "AT6lcdYA-FcA",
        "outputId": "c7f7e467-d7d7-4185-d400-f953020d2299"
      },
      "execution_count": 20,
      "outputs": [
        {
          "output_type": "execute_result",
          "data": {
            "text/plain": [
              "tensor([[0, 1, 2, 3, 4],\n",
              "        [5, 6, 7, 8, 9]])"
            ]
          },
          "metadata": {},
          "execution_count": 20
        }
      ]
    },
    {
      "cell_type": "code",
      "source": [
        "my_torch5[1] = 4141"
      ],
      "metadata": {
        "id": "Sf2IKFFs-LHs"
      },
      "execution_count": 21,
      "outputs": []
    },
    {
      "cell_type": "code",
      "source": [
        "my_torch5"
      ],
      "metadata": {
        "colab": {
          "base_uri": "https://localhost:8080/"
        },
        "id": "WZ6A35CI-OGi",
        "outputId": "dad8c3c3-d1e5-4ef9-f30a-688af3cfe32e"
      },
      "execution_count": 22,
      "outputs": [
        {
          "output_type": "execute_result",
          "data": {
            "text/plain": [
              "tensor([   0, 4141,    2,    3,    4,    5,    6,    7,    8,    9])"
            ]
          },
          "metadata": {},
          "execution_count": 22
        }
      ]
    },
    {
      "cell_type": "code",
      "source": [
        "my_torch6"
      ],
      "metadata": {
        "colab": {
          "base_uri": "https://localhost:8080/"
        },
        "id": "1EVAOOo7-P2h",
        "outputId": "782e99ad-a540-423d-d0c3-1518f8c6cd1e"
      },
      "execution_count": 23,
      "outputs": [
        {
          "output_type": "execute_result",
          "data": {
            "text/plain": [
              "tensor([[   0, 4141,    2,    3,    4],\n",
              "        [   5,    6,    7,    8,    9]])"
            ]
          },
          "metadata": {},
          "execution_count": 23
        }
      ]
    },
    {
      "cell_type": "code",
      "source": [
        "#slices\n",
        "my_torch7 =  torch.arange(10)\n",
        "my_torch7"
      ],
      "metadata": {
        "colab": {
          "base_uri": "https://localhost:8080/"
        },
        "id": "y4iZA7FU-RAZ",
        "outputId": "16617f50-8d12-44ea-c613-c76e3b871e06"
      },
      "execution_count": 24,
      "outputs": [
        {
          "output_type": "execute_result",
          "data": {
            "text/plain": [
              "tensor([0, 1, 2, 3, 4, 5, 6, 7, 8, 9])"
            ]
          },
          "metadata": {},
          "execution_count": 24
        }
      ]
    },
    {
      "cell_type": "code",
      "source": [
        "#grab a specific item\n",
        "my_torch7[7]\n",
        "#grab a slice\n",
        "my_torch8 = my_torch7.reshape(5,2)\n",
        "my_torch8"
      ],
      "metadata": {
        "colab": {
          "base_uri": "https://localhost:8080/"
        },
        "id": "YpOGOu0a-S4v",
        "outputId": "3ad0fc53-f0a8-4b83-cf82-3364c304c0fd"
      },
      "execution_count": 25,
      "outputs": [
        {
          "output_type": "execute_result",
          "data": {
            "text/plain": [
              "tensor([[0, 1],\n",
              "        [2, 3],\n",
              "        [4, 5],\n",
              "        [6, 7],\n",
              "        [8, 9]])"
            ]
          },
          "metadata": {},
          "execution_count": 25
        }
      ]
    },
    {
      "cell_type": "code",
      "source": [
        "my_torch8[:,1]"
      ],
      "metadata": {
        "colab": {
          "base_uri": "https://localhost:8080/"
        },
        "id": "KJwb1oIh-cro",
        "outputId": "54c0cc66-44f3-4543-a1a1-e798f51b1d59"
      },
      "execution_count": 26,
      "outputs": [
        {
          "output_type": "execute_result",
          "data": {
            "text/plain": [
              "tensor([1, 3, 5, 7, 9])"
            ]
          },
          "metadata": {},
          "execution_count": 26
        }
      ]
    },
    {
      "cell_type": "code",
      "source": [
        "#to keep shape //column\n",
        "my_torch8[:,1:]\n"
      ],
      "metadata": {
        "colab": {
          "base_uri": "https://localhost:8080/"
        },
        "id": "rM6fo-6P-qLn",
        "outputId": "a2740463-eb28-4f97-d0c5-0f27c489bc3a"
      },
      "execution_count": 27,
      "outputs": [
        {
          "output_type": "execute_result",
          "data": {
            "text/plain": [
              "tensor([[1],\n",
              "        [3],\n",
              "        [5],\n",
              "        [7],\n",
              "        [9]])"
            ]
          },
          "metadata": {},
          "execution_count": 27
        }
      ]
    },
    {
      "cell_type": "markdown",
      "source": [
        "**MATH OPERATIONS IN TORCH**"
      ],
      "metadata": {
        "id": "kdPgSRQTAVGY"
      }
    },
    {
      "cell_type": "code",
      "source": [
        "tensor_a = torch.tensor([1,2,3,4])\n",
        "tensor_b = torch.tensor([5,6,7,8])"
      ],
      "metadata": {
        "id": "57vmF1si-xYN"
      },
      "execution_count": 28,
      "outputs": []
    },
    {
      "cell_type": "code",
      "source": [
        "#addition\n",
        "tensor_a + tensor_b\n",
        "\n",
        "#addition long hand\n",
        "torch.add(tensor_a,tensor_b)"
      ],
      "metadata": {
        "colab": {
          "base_uri": "https://localhost:8080/"
        },
        "id": "PoRXTRzSAwA4",
        "outputId": "9f2e0157-ad69-4271-a732-8b9cb8aae9d2"
      },
      "execution_count": 29,
      "outputs": [
        {
          "output_type": "execute_result",
          "data": {
            "text/plain": [
              "tensor([ 6,  8, 10, 12])"
            ]
          },
          "metadata": {},
          "execution_count": 29
        }
      ]
    },
    {
      "cell_type": "code",
      "source": [
        "#substraction\n",
        "tensor_a - tensor_b\n",
        "\n",
        "#substraction long hand\n",
        "torch.sub(tensor_a,tensor_b)\n"
      ],
      "metadata": {
        "colab": {
          "base_uri": "https://localhost:8080/"
        },
        "id": "0yFbSdMUAxfg",
        "outputId": "11d44bdb-9784-459e-c109-6a7d4803abc7"
      },
      "execution_count": 30,
      "outputs": [
        {
          "output_type": "execute_result",
          "data": {
            "text/plain": [
              "tensor([-4, -4, -4, -4])"
            ]
          },
          "metadata": {},
          "execution_count": 30
        }
      ]
    },
    {
      "cell_type": "code",
      "source": [
        "#multiplicaion\n",
        "tensor_a * tensor_b\n",
        "\n",
        "#multiplicaion long hand\n",
        "torch.mul(tensor_a,tensor_b)\n"
      ],
      "metadata": {
        "colab": {
          "base_uri": "https://localhost:8080/"
        },
        "id": "X1snjATnBBnT",
        "outputId": "3826a139-3e7a-40a3-8a40-dc9968f560f5"
      },
      "execution_count": 31,
      "outputs": [
        {
          "output_type": "execute_result",
          "data": {
            "text/plain": [
              "tensor([ 5, 12, 21, 32])"
            ]
          },
          "metadata": {},
          "execution_count": 31
        }
      ]
    },
    {
      "cell_type": "code",
      "source": [
        "#division\n",
        "tensor_a / tensor_b\n",
        "\n",
        "#division long hand\n",
        "torch.div(tensor_a,tensor_b)"
      ],
      "metadata": {
        "colab": {
          "base_uri": "https://localhost:8080/"
        },
        "id": "puS_NCT0BFJM",
        "outputId": "7da82d76-5ad8-49bd-866e-a9a67e48625e"
      },
      "execution_count": 32,
      "outputs": [
        {
          "output_type": "execute_result",
          "data": {
            "text/plain": [
              "tensor([0.2000, 0.3333, 0.4286, 0.5000])"
            ]
          },
          "metadata": {},
          "execution_count": 32
        }
      ]
    },
    {
      "cell_type": "code",
      "source": [
        "#remainder\n",
        "tensor_a % tensor_b\n",
        "#remainder long hand\n",
        "torch.remainder(tensor_a,tensor_b)"
      ],
      "metadata": {
        "colab": {
          "base_uri": "https://localhost:8080/"
        },
        "id": "kebWmFtMBG9K",
        "outputId": "55d63159-159b-4fcf-dc72-b91323363ad8"
      },
      "execution_count": 33,
      "outputs": [
        {
          "output_type": "execute_result",
          "data": {
            "text/plain": [
              "tensor([1, 2, 3, 4])"
            ]
          },
          "metadata": {},
          "execution_count": 33
        }
      ]
    },
    {
      "cell_type": "code",
      "source": [
        "#exponents\n",
        "torch.pow(tensor_a,tensor_b)"
      ],
      "metadata": {
        "colab": {
          "base_uri": "https://localhost:8080/"
        },
        "id": "e_yGcUnFBuKc",
        "outputId": "ffc64585-2d70-42e0-a3e4-2405ebd8bcc5"
      },
      "execution_count": 34,
      "outputs": [
        {
          "output_type": "execute_result",
          "data": {
            "text/plain": [
              "tensor([    1,    64,  2187, 65536])"
            ]
          },
          "metadata": {},
          "execution_count": 34
        }
      ]
    },
    {
      "cell_type": "markdown",
      "source": [],
      "metadata": {
        "id": "J55fGAbSCHNk"
      }
    },
    {
      "cell_type": "code",
      "source": [
        "tensor_a = tensor_a + tensor_b\n",
        "tensor_a\n",
        "#another way to write long hand\n",
        "#reassigned value of a to a+b\n",
        "tensor_a.add(tensor_b)\n"
      ],
      "metadata": {
        "colab": {
          "base_uri": "https://localhost:8080/"
        },
        "id": "6kiphB3lCFDv",
        "outputId": "eb24c6f3-453d-4a70-b96e-967e0ebb3029"
      },
      "execution_count": 35,
      "outputs": [
        {
          "output_type": "execute_result",
          "data": {
            "text/plain": [
              "tensor([11, 14, 17, 20])"
            ]
          },
          "metadata": {},
          "execution_count": 35
        }
      ]
    },
    {
      "cell_type": "code",
      "source": [
        "torch.add(tensor_a,tensor_b)\n",
        "\n"
      ],
      "metadata": {
        "colab": {
          "base_uri": "https://localhost:8080/"
        },
        "id": "DJdbrMMoCFZX",
        "outputId": "f4c94e74-6eca-45a7-8b6f-7ab7c39dd210"
      },
      "execution_count": 36,
      "outputs": [
        {
          "output_type": "execute_result",
          "data": {
            "text/plain": [
              "tensor([11, 14, 17, 20])"
            ]
          },
          "metadata": {},
          "execution_count": 36
        }
      ]
    },
    {
      "cell_type": "markdown",
      "source": [
        "**NEURAL NETWORK![Screenshot 2024-08-15 225305.png](data:image/png;base64,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)**"
      ],
      "metadata": {
        "id": "pg9PEf25Dkq2"
      }
    },
    {
      "cell_type": "code",
      "source": [
        "##nn is neural network\n",
        "import torch.nn as nn\n",
        "import torch.nn.functional as F\n",
        "import torch\n",
        "import numpy as np"
      ],
      "metadata": {
        "id": "dZt3JSdNB-bl"
      },
      "execution_count": 37,
      "outputs": []
    },
    {
      "cell_type": "markdown",
      "source": [
        "![Screenshot 2024-08-15 225941.png](data:image/png;base64,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)"
      ],
      "metadata": {
        "id": "OJrsVJNRFsJ0"
      }
    },
    {
      "cell_type": "code",
      "source": [
        "#create a model class that inherits nn.Module\n",
        "class Model(nn.Module):\n",
        "  #Input layer (4 features of the flower) --->\n",
        "  #Hidden Layer1 (number of neurons) --->\n",
        "  #Hidden layer2 H2(n)--->\n",
        "  #output(3 classes of output)\n",
        "  def __init__(self,in_features=4,h1=8,h2=9,out_features=3):\n",
        "    super().__init__()\n",
        "    self.fc1 = nn.Linear(in_features,h1)\n",
        "    self.fc2 = nn.Linear(h1,h2)\n",
        "    self.out = nn.Linear(h2,out_features)\n",
        "  #to move from one layer to another\n",
        "  def forward(self,x):\n",
        "    x = F.relu(self.fc1(x)) # the relu() method return 0 if less than zero else return positive value\n",
        "    x = F.relu(self.fc2(x))\n",
        "    x = self.out(x)\n",
        "\n",
        "    return x"
      ],
      "metadata": {
        "id": "XGplfPg1CEcI"
      },
      "execution_count": 38,
      "outputs": []
    },
    {
      "cell_type": "code",
      "source": [
        " # pick a manual seed fopr randomization\n",
        " torch.manual_seed(32)\n",
        " #create an instance of the model\n",
        " model = Model()"
      ],
      "metadata": {
        "id": "ZxArzD5yHKoH"
      },
      "execution_count": 39,
      "outputs": []
    },
    {
      "cell_type": "code",
      "source": [
        "import pandas as pd\n",
        "import matplotlib.pyplot as plt\n",
        "%matplotlib inline\n"
      ],
      "metadata": {
        "id": "Hi0bx94pIBvt"
      },
      "execution_count": 40,
      "outputs": []
    },
    {
      "cell_type": "code",
      "source": [
        "url = 'https://gist.githubusercontent.com/curran/a08a1080b88344b0c8a7/raw/0e7a9b0a5d22642a06d3d5b9bcbad9890c8ee534/iris.csv'\n",
        "my_df = pd.read_csv(url)"
      ],
      "metadata": {
        "id": "7ppOP8JtYR4Y"
      },
      "execution_count": 41,
      "outputs": []
    },
    {
      "cell_type": "code",
      "source": [
        "my_df.head(5)\n",
        "\n"
      ],
      "metadata": {
        "id": "IE-0iEO1Y9CK",
        "outputId": "20e9dbe2-a7b8-4150-b845-c9ff3e50c660",
        "colab": {
          "base_uri": "https://localhost:8080/",
          "height": 206
        }
      },
      "execution_count": 42,
      "outputs": [
        {
          "output_type": "execute_result",
          "data": {
            "text/plain": [
              "   sepal_length  sepal_width  petal_length  petal_width species\n",
              "0           5.1          3.5           1.4          0.2  setosa\n",
              "1           4.9          3.0           1.4          0.2  setosa\n",
              "2           4.7          3.2           1.3          0.2  setosa\n",
              "3           4.6          3.1           1.5          0.2  setosa\n",
              "4           5.0          3.6           1.4          0.2  setosa"
            ],
            "text/html": [
              "\n",
              "  <div id=\"df-43e09e33-4f7b-4e58-9594-46fa6cb4e8f2\" class=\"colab-df-container\">\n",
              "    <div>\n",
              "<style scoped>\n",
              "    .dataframe tbody tr th:only-of-type {\n",
              "        vertical-align: middle;\n",
              "    }\n",
              "\n",
              "    .dataframe tbody tr th {\n",
              "        vertical-align: top;\n",
              "    }\n",
              "\n",
              "    .dataframe thead th {\n",
              "        text-align: right;\n",
              "    }\n",
              "</style>\n",
              "<table border=\"1\" class=\"dataframe\">\n",
              "  <thead>\n",
              "    <tr style=\"text-align: right;\">\n",
              "      <th></th>\n",
              "      <th>sepal_length</th>\n",
              "      <th>sepal_width</th>\n",
              "      <th>petal_length</th>\n",
              "      <th>petal_width</th>\n",
              "      <th>species</th>\n",
              "    </tr>\n",
              "  </thead>\n",
              "  <tbody>\n",
              "    <tr>\n",
              "      <th>0</th>\n",
              "      <td>5.1</td>\n",
              "      <td>3.5</td>\n",
              "      <td>1.4</td>\n",
              "      <td>0.2</td>\n",
              "      <td>setosa</td>\n",
              "    </tr>\n",
              "    <tr>\n",
              "      <th>1</th>\n",
              "      <td>4.9</td>\n",
              "      <td>3.0</td>\n",
              "      <td>1.4</td>\n",
              "      <td>0.2</td>\n",
              "      <td>setosa</td>\n",
              "    </tr>\n",
              "    <tr>\n",
              "      <th>2</th>\n",
              "      <td>4.7</td>\n",
              "      <td>3.2</td>\n",
              "      <td>1.3</td>\n",
              "      <td>0.2</td>\n",
              "      <td>setosa</td>\n",
              "    </tr>\n",
              "    <tr>\n",
              "      <th>3</th>\n",
              "      <td>4.6</td>\n",
              "      <td>3.1</td>\n",
              "      <td>1.5</td>\n",
              "      <td>0.2</td>\n",
              "      <td>setosa</td>\n",
              "    </tr>\n",
              "    <tr>\n",
              "      <th>4</th>\n",
              "      <td>5.0</td>\n",
              "      <td>3.6</td>\n",
              "      <td>1.4</td>\n",
              "      <td>0.2</td>\n",
              "      <td>setosa</td>\n",
              "    </tr>\n",
              "  </tbody>\n",
              "</table>\n",
              "</div>\n",
              "    <div class=\"colab-df-buttons\">\n",
              "\n",
              "  <div class=\"colab-df-container\">\n",
              "    <button class=\"colab-df-convert\" onclick=\"convertToInteractive('df-43e09e33-4f7b-4e58-9594-46fa6cb4e8f2')\"\n",
              "            title=\"Convert this dataframe to an interactive table.\"\n",
              "            style=\"display:none;\">\n",
              "\n",
              "  <svg xmlns=\"http://www.w3.org/2000/svg\" height=\"24px\" viewBox=\"0 -960 960 960\">\n",
              "    <path d=\"M120-120v-720h720v720H120Zm60-500h600v-160H180v160Zm220 220h160v-160H400v160Zm0 220h160v-160H400v160ZM180-400h160v-160H180v160Zm440 0h160v-160H620v160ZM180-180h160v-160H180v160Zm440 0h160v-160H620v160Z\"/>\n",
              "  </svg>\n",
              "    </button>\n",
              "\n",
              "  <style>\n",
              "    .colab-df-container {\n",
              "      display:flex;\n",
              "      gap: 12px;\n",
              "    }\n",
              "\n",
              "    .colab-df-convert {\n",
              "      background-color: #E8F0FE;\n",
              "      border: none;\n",
              "      border-radius: 50%;\n",
              "      cursor: pointer;\n",
              "      display: none;\n",
              "      fill: #1967D2;\n",
              "      height: 32px;\n",
              "      padding: 0 0 0 0;\n",
              "      width: 32px;\n",
              "    }\n",
              "\n",
              "    .colab-df-convert:hover {\n",
              "      background-color: #E2EBFA;\n",
              "      box-shadow: 0px 1px 2px rgba(60, 64, 67, 0.3), 0px 1px 3px 1px rgba(60, 64, 67, 0.15);\n",
              "      fill: #174EA6;\n",
              "    }\n",
              "\n",
              "    .colab-df-buttons div {\n",
              "      margin-bottom: 4px;\n",
              "    }\n",
              "\n",
              "    [theme=dark] .colab-df-convert {\n",
              "      background-color: #3B4455;\n",
              "      fill: #D2E3FC;\n",
              "    }\n",
              "\n",
              "    [theme=dark] .colab-df-convert:hover {\n",
              "      background-color: #434B5C;\n",
              "      box-shadow: 0px 1px 3px 1px rgba(0, 0, 0, 0.15);\n",
              "      filter: drop-shadow(0px 1px 2px rgba(0, 0, 0, 0.3));\n",
              "      fill: #FFFFFF;\n",
              "    }\n",
              "  </style>\n",
              "\n",
              "    <script>\n",
              "      const buttonEl =\n",
              "        document.querySelector('#df-43e09e33-4f7b-4e58-9594-46fa6cb4e8f2 button.colab-df-convert');\n",
              "      buttonEl.style.display =\n",
              "        google.colab.kernel.accessAllowed ? 'block' : 'none';\n",
              "\n",
              "      async function convertToInteractive(key) {\n",
              "        const element = document.querySelector('#df-43e09e33-4f7b-4e58-9594-46fa6cb4e8f2');\n",
              "        const dataTable =\n",
              "          await google.colab.kernel.invokeFunction('convertToInteractive',\n",
              "                                                    [key], {});\n",
              "        if (!dataTable) return;\n",
              "\n",
              "        const docLinkHtml = 'Like what you see? Visit the ' +\n",
              "          '<a target=\"_blank\" href=https://colab.research.google.com/notebooks/data_table.ipynb>data table notebook</a>'\n",
              "          + ' to learn more about interactive tables.';\n",
              "        element.innerHTML = '';\n",
              "        dataTable['output_type'] = 'display_data';\n",
              "        await google.colab.output.renderOutput(dataTable, element);\n",
              "        const docLink = document.createElement('div');\n",
              "        docLink.innerHTML = docLinkHtml;\n",
              "        element.appendChild(docLink);\n",
              "      }\n",
              "    </script>\n",
              "  </div>\n",
              "\n",
              "\n",
              "<div id=\"df-99b00ca0-a1fc-410e-9961-b2c6501572f7\">\n",
              "  <button class=\"colab-df-quickchart\" onclick=\"quickchart('df-99b00ca0-a1fc-410e-9961-b2c6501572f7')\"\n",
              "            title=\"Suggest charts\"\n",
              "            style=\"display:none;\">\n",
              "\n",
              "<svg xmlns=\"http://www.w3.org/2000/svg\" height=\"24px\"viewBox=\"0 0 24 24\"\n",
              "     width=\"24px\">\n",
              "    <g>\n",
              "        <path d=\"M19 3H5c-1.1 0-2 .9-2 2v14c0 1.1.9 2 2 2h14c1.1 0 2-.9 2-2V5c0-1.1-.9-2-2-2zM9 17H7v-7h2v7zm4 0h-2V7h2v10zm4 0h-2v-4h2v4z\"/>\n",
              "    </g>\n",
              "</svg>\n",
              "  </button>\n",
              "\n",
              "<style>\n",
              "  .colab-df-quickchart {\n",
              "      --bg-color: #E8F0FE;\n",
              "      --fill-color: #1967D2;\n",
              "      --hover-bg-color: #E2EBFA;\n",
              "      --hover-fill-color: #174EA6;\n",
              "      --disabled-fill-color: #AAA;\n",
              "      --disabled-bg-color: #DDD;\n",
              "  }\n",
              "\n",
              "  [theme=dark] .colab-df-quickchart {\n",
              "      --bg-color: #3B4455;\n",
              "      --fill-color: #D2E3FC;\n",
              "      --hover-bg-color: #434B5C;\n",
              "      --hover-fill-color: #FFFFFF;\n",
              "      --disabled-bg-color: #3B4455;\n",
              "      --disabled-fill-color: #666;\n",
              "  }\n",
              "\n",
              "  .colab-df-quickchart {\n",
              "    background-color: var(--bg-color);\n",
              "    border: none;\n",
              "    border-radius: 50%;\n",
              "    cursor: pointer;\n",
              "    display: none;\n",
              "    fill: var(--fill-color);\n",
              "    height: 32px;\n",
              "    padding: 0;\n",
              "    width: 32px;\n",
              "  }\n",
              "\n",
              "  .colab-df-quickchart:hover {\n",
              "    background-color: var(--hover-bg-color);\n",
              "    box-shadow: 0 1px 2px rgba(60, 64, 67, 0.3), 0 1px 3px 1px rgba(60, 64, 67, 0.15);\n",
              "    fill: var(--button-hover-fill-color);\n",
              "  }\n",
              "\n",
              "  .colab-df-quickchart-complete:disabled,\n",
              "  .colab-df-quickchart-complete:disabled:hover {\n",
              "    background-color: var(--disabled-bg-color);\n",
              "    fill: var(--disabled-fill-color);\n",
              "    box-shadow: none;\n",
              "  }\n",
              "\n",
              "  .colab-df-spinner {\n",
              "    border: 2px solid var(--fill-color);\n",
              "    border-color: transparent;\n",
              "    border-bottom-color: var(--fill-color);\n",
              "    animation:\n",
              "      spin 1s steps(1) infinite;\n",
              "  }\n",
              "\n",
              "  @keyframes spin {\n",
              "    0% {\n",
              "      border-color: transparent;\n",
              "      border-bottom-color: var(--fill-color);\n",
              "      border-left-color: var(--fill-color);\n",
              "    }\n",
              "    20% {\n",
              "      border-color: transparent;\n",
              "      border-left-color: var(--fill-color);\n",
              "      border-top-color: var(--fill-color);\n",
              "    }\n",
              "    30% {\n",
              "      border-color: transparent;\n",
              "      border-left-color: var(--fill-color);\n",
              "      border-top-color: var(--fill-color);\n",
              "      border-right-color: var(--fill-color);\n",
              "    }\n",
              "    40% {\n",
              "      border-color: transparent;\n",
              "      border-right-color: var(--fill-color);\n",
              "      border-top-color: var(--fill-color);\n",
              "    }\n",
              "    60% {\n",
              "      border-color: transparent;\n",
              "      border-right-color: var(--fill-color);\n",
              "    }\n",
              "    80% {\n",
              "      border-color: transparent;\n",
              "      border-right-color: var(--fill-color);\n",
              "      border-bottom-color: var(--fill-color);\n",
              "    }\n",
              "    90% {\n",
              "      border-color: transparent;\n",
              "      border-bottom-color: var(--fill-color);\n",
              "    }\n",
              "  }\n",
              "</style>\n",
              "\n",
              "  <script>\n",
              "    async function quickchart(key) {\n",
              "      const quickchartButtonEl =\n",
              "        document.querySelector('#' + key + ' button');\n",
              "      quickchartButtonEl.disabled = true;  // To prevent multiple clicks.\n",
              "      quickchartButtonEl.classList.add('colab-df-spinner');\n",
              "      try {\n",
              "        const charts = await google.colab.kernel.invokeFunction(\n",
              "            'suggestCharts', [key], {});\n",
              "      } catch (error) {\n",
              "        console.error('Error during call to suggestCharts:', error);\n",
              "      }\n",
              "      quickchartButtonEl.classList.remove('colab-df-spinner');\n",
              "      quickchartButtonEl.classList.add('colab-df-quickchart-complete');\n",
              "    }\n",
              "    (() => {\n",
              "      let quickchartButtonEl =\n",
              "        document.querySelector('#df-99b00ca0-a1fc-410e-9961-b2c6501572f7 button');\n",
              "      quickchartButtonEl.style.display =\n",
              "        google.colab.kernel.accessAllowed ? 'block' : 'none';\n",
              "    })();\n",
              "  </script>\n",
              "</div>\n",
              "\n",
              "    </div>\n",
              "  </div>\n"
            ],
            "application/vnd.google.colaboratory.intrinsic+json": {
              "type": "dataframe",
              "variable_name": "my_df",
              "summary": "{\n  \"name\": \"my_df\",\n  \"rows\": 150,\n  \"fields\": [\n    {\n      \"column\": \"sepal_length\",\n      \"properties\": {\n        \"dtype\": \"number\",\n        \"std\": 0.828066127977863,\n        \"min\": 4.3,\n        \"max\": 7.9,\n        \"num_unique_values\": 35,\n        \"samples\": [\n          6.2,\n          4.5,\n          5.6\n        ],\n        \"semantic_type\": \"\",\n        \"description\": \"\"\n      }\n    },\n    {\n      \"column\": \"sepal_width\",\n      \"properties\": {\n        \"dtype\": \"number\",\n        \"std\": 0.4335943113621737,\n        \"min\": 2.0,\n        \"max\": 4.4,\n        \"num_unique_values\": 23,\n        \"samples\": [\n          2.3,\n          4.0,\n          3.5\n        ],\n        \"semantic_type\": \"\",\n        \"description\": \"\"\n      }\n    },\n    {\n      \"column\": \"petal_length\",\n      \"properties\": {\n        \"dtype\": \"number\",\n        \"std\": 1.7644204199522626,\n        \"min\": 1.0,\n        \"max\": 6.9,\n        \"num_unique_values\": 43,\n        \"samples\": [\n          6.7,\n          3.8,\n          3.7\n        ],\n        \"semantic_type\": \"\",\n        \"description\": \"\"\n      }\n    },\n    {\n      \"column\": \"petal_width\",\n      \"properties\": {\n        \"dtype\": \"number\",\n        \"std\": 0.7631607417008411,\n        \"min\": 0.1,\n        \"max\": 2.5,\n        \"num_unique_values\": 22,\n        \"samples\": [\n          0.2,\n          1.2,\n          1.3\n        ],\n        \"semantic_type\": \"\",\n        \"description\": \"\"\n      }\n    },\n    {\n      \"column\": \"species\",\n      \"properties\": {\n        \"dtype\": \"category\",\n        \"num_unique_values\": 3,\n        \"samples\": [\n          \"setosa\",\n          \"versicolor\",\n          \"virginica\"\n        ],\n        \"semantic_type\": \"\",\n        \"description\": \"\"\n      }\n    }\n  ]\n}"
            }
          },
          "metadata": {},
          "execution_count": 42
        }
      ]
    },
    {
      "cell_type": "code",
      "source": [
        " #changing last column data type\n",
        " my_df['species'] = my_df['species'].replace('setosa',0.0)\n",
        " my_df['species'] = my_df['species'].replace('versicolor',1.0)\n",
        " my_df['species'] = my_df['species'].replace('virginica',2.0)\n",
        "\n",
        " my_df.tail()"
      ],
      "metadata": {
        "id": "G9sz7DYEZBZ4",
        "outputId": "ea6a10b6-d71f-4326-926c-4a1c57b35bab",
        "colab": {
          "base_uri": "https://localhost:8080/",
          "height": 206
        }
      },
      "execution_count": 43,
      "outputs": [
        {
          "output_type": "execute_result",
          "data": {
            "text/plain": [
              "     sepal_length  sepal_width  petal_length  petal_width  species\n",
              "145           6.7          3.0           5.2          2.3      2.0\n",
              "146           6.3          2.5           5.0          1.9      2.0\n",
              "147           6.5          3.0           5.2          2.0      2.0\n",
              "148           6.2          3.4           5.4          2.3      2.0\n",
              "149           5.9          3.0           5.1          1.8      2.0"
            ],
            "text/html": [
              "\n",
              "  <div id=\"df-da404498-f9d8-409b-adff-90b045ad6b78\" class=\"colab-df-container\">\n",
              "    <div>\n",
              "<style scoped>\n",
              "    .dataframe tbody tr th:only-of-type {\n",
              "        vertical-align: middle;\n",
              "    }\n",
              "\n",
              "    .dataframe tbody tr th {\n",
              "        vertical-align: top;\n",
              "    }\n",
              "\n",
              "    .dataframe thead th {\n",
              "        text-align: right;\n",
              "    }\n",
              "</style>\n",
              "<table border=\"1\" class=\"dataframe\">\n",
              "  <thead>\n",
              "    <tr style=\"text-align: right;\">\n",
              "      <th></th>\n",
              "      <th>sepal_length</th>\n",
              "      <th>sepal_width</th>\n",
              "      <th>petal_length</th>\n",
              "      <th>petal_width</th>\n",
              "      <th>species</th>\n",
              "    </tr>\n",
              "  </thead>\n",
              "  <tbody>\n",
              "    <tr>\n",
              "      <th>145</th>\n",
              "      <td>6.7</td>\n",
              "      <td>3.0</td>\n",
              "      <td>5.2</td>\n",
              "      <td>2.3</td>\n",
              "      <td>2.0</td>\n",
              "    </tr>\n",
              "    <tr>\n",
              "      <th>146</th>\n",
              "      <td>6.3</td>\n",
              "      <td>2.5</td>\n",
              "      <td>5.0</td>\n",
              "      <td>1.9</td>\n",
              "      <td>2.0</td>\n",
              "    </tr>\n",
              "    <tr>\n",
              "      <th>147</th>\n",
              "      <td>6.5</td>\n",
              "      <td>3.0</td>\n",
              "      <td>5.2</td>\n",
              "      <td>2.0</td>\n",
              "      <td>2.0</td>\n",
              "    </tr>\n",
              "    <tr>\n",
              "      <th>148</th>\n",
              "      <td>6.2</td>\n",
              "      <td>3.4</td>\n",
              "      <td>5.4</td>\n",
              "      <td>2.3</td>\n",
              "      <td>2.0</td>\n",
              "    </tr>\n",
              "    <tr>\n",
              "      <th>149</th>\n",
              "      <td>5.9</td>\n",
              "      <td>3.0</td>\n",
              "      <td>5.1</td>\n",
              "      <td>1.8</td>\n",
              "      <td>2.0</td>\n",
              "    </tr>\n",
              "  </tbody>\n",
              "</table>\n",
              "</div>\n",
              "    <div class=\"colab-df-buttons\">\n",
              "\n",
              "  <div class=\"colab-df-container\">\n",
              "    <button class=\"colab-df-convert\" onclick=\"convertToInteractive('df-da404498-f9d8-409b-adff-90b045ad6b78')\"\n",
              "            title=\"Convert this dataframe to an interactive table.\"\n",
              "            style=\"display:none;\">\n",
              "\n",
              "  <svg xmlns=\"http://www.w3.org/2000/svg\" height=\"24px\" viewBox=\"0 -960 960 960\">\n",
              "    <path d=\"M120-120v-720h720v720H120Zm60-500h600v-160H180v160Zm220 220h160v-160H400v160Zm0 220h160v-160H400v160ZM180-400h160v-160H180v160Zm440 0h160v-160H620v160ZM180-180h160v-160H180v160Zm440 0h160v-160H620v160Z\"/>\n",
              "  </svg>\n",
              "    </button>\n",
              "\n",
              "  <style>\n",
              "    .colab-df-container {\n",
              "      display:flex;\n",
              "      gap: 12px;\n",
              "    }\n",
              "\n",
              "    .colab-df-convert {\n",
              "      background-color: #E8F0FE;\n",
              "      border: none;\n",
              "      border-radius: 50%;\n",
              "      cursor: pointer;\n",
              "      display: none;\n",
              "      fill: #1967D2;\n",
              "      height: 32px;\n",
              "      padding: 0 0 0 0;\n",
              "      width: 32px;\n",
              "    }\n",
              "\n",
              "    .colab-df-convert:hover {\n",
              "      background-color: #E2EBFA;\n",
              "      box-shadow: 0px 1px 2px rgba(60, 64, 67, 0.3), 0px 1px 3px 1px rgba(60, 64, 67, 0.15);\n",
              "      fill: #174EA6;\n",
              "    }\n",
              "\n",
              "    .colab-df-buttons div {\n",
              "      margin-bottom: 4px;\n",
              "    }\n",
              "\n",
              "    [theme=dark] .colab-df-convert {\n",
              "      background-color: #3B4455;\n",
              "      fill: #D2E3FC;\n",
              "    }\n",
              "\n",
              "    [theme=dark] .colab-df-convert:hover {\n",
              "      background-color: #434B5C;\n",
              "      box-shadow: 0px 1px 3px 1px rgba(0, 0, 0, 0.15);\n",
              "      filter: drop-shadow(0px 1px 2px rgba(0, 0, 0, 0.3));\n",
              "      fill: #FFFFFF;\n",
              "    }\n",
              "  </style>\n",
              "\n",
              "    <script>\n",
              "      const buttonEl =\n",
              "        document.querySelector('#df-da404498-f9d8-409b-adff-90b045ad6b78 button.colab-df-convert');\n",
              "      buttonEl.style.display =\n",
              "        google.colab.kernel.accessAllowed ? 'block' : 'none';\n",
              "\n",
              "      async function convertToInteractive(key) {\n",
              "        const element = document.querySelector('#df-da404498-f9d8-409b-adff-90b045ad6b78');\n",
              "        const dataTable =\n",
              "          await google.colab.kernel.invokeFunction('convertToInteractive',\n",
              "                                                    [key], {});\n",
              "        if (!dataTable) return;\n",
              "\n",
              "        const docLinkHtml = 'Like what you see? Visit the ' +\n",
              "          '<a target=\"_blank\" href=https://colab.research.google.com/notebooks/data_table.ipynb>data table notebook</a>'\n",
              "          + ' to learn more about interactive tables.';\n",
              "        element.innerHTML = '';\n",
              "        dataTable['output_type'] = 'display_data';\n",
              "        await google.colab.output.renderOutput(dataTable, element);\n",
              "        const docLink = document.createElement('div');\n",
              "        docLink.innerHTML = docLinkHtml;\n",
              "        element.appendChild(docLink);\n",
              "      }\n",
              "    </script>\n",
              "  </div>\n",
              "\n",
              "\n",
              "<div id=\"df-eeaba33c-d3b5-4f37-b1bd-d6218fc4b860\">\n",
              "  <button class=\"colab-df-quickchart\" onclick=\"quickchart('df-eeaba33c-d3b5-4f37-b1bd-d6218fc4b860')\"\n",
              "            title=\"Suggest charts\"\n",
              "            style=\"display:none;\">\n",
              "\n",
              "<svg xmlns=\"http://www.w3.org/2000/svg\" height=\"24px\"viewBox=\"0 0 24 24\"\n",
              "     width=\"24px\">\n",
              "    <g>\n",
              "        <path d=\"M19 3H5c-1.1 0-2 .9-2 2v14c0 1.1.9 2 2 2h14c1.1 0 2-.9 2-2V5c0-1.1-.9-2-2-2zM9 17H7v-7h2v7zm4 0h-2V7h2v10zm4 0h-2v-4h2v4z\"/>\n",
              "    </g>\n",
              "</svg>\n",
              "  </button>\n",
              "\n",
              "<style>\n",
              "  .colab-df-quickchart {\n",
              "      --bg-color: #E8F0FE;\n",
              "      --fill-color: #1967D2;\n",
              "      --hover-bg-color: #E2EBFA;\n",
              "      --hover-fill-color: #174EA6;\n",
              "      --disabled-fill-color: #AAA;\n",
              "      --disabled-bg-color: #DDD;\n",
              "  }\n",
              "\n",
              "  [theme=dark] .colab-df-quickchart {\n",
              "      --bg-color: #3B4455;\n",
              "      --fill-color: #D2E3FC;\n",
              "      --hover-bg-color: #434B5C;\n",
              "      --hover-fill-color: #FFFFFF;\n",
              "      --disabled-bg-color: #3B4455;\n",
              "      --disabled-fill-color: #666;\n",
              "  }\n",
              "\n",
              "  .colab-df-quickchart {\n",
              "    background-color: var(--bg-color);\n",
              "    border: none;\n",
              "    border-radius: 50%;\n",
              "    cursor: pointer;\n",
              "    display: none;\n",
              "    fill: var(--fill-color);\n",
              "    height: 32px;\n",
              "    padding: 0;\n",
              "    width: 32px;\n",
              "  }\n",
              "\n",
              "  .colab-df-quickchart:hover {\n",
              "    background-color: var(--hover-bg-color);\n",
              "    box-shadow: 0 1px 2px rgba(60, 64, 67, 0.3), 0 1px 3px 1px rgba(60, 64, 67, 0.15);\n",
              "    fill: var(--button-hover-fill-color);\n",
              "  }\n",
              "\n",
              "  .colab-df-quickchart-complete:disabled,\n",
              "  .colab-df-quickchart-complete:disabled:hover {\n",
              "    background-color: var(--disabled-bg-color);\n",
              "    fill: var(--disabled-fill-color);\n",
              "    box-shadow: none;\n",
              "  }\n",
              "\n",
              "  .colab-df-spinner {\n",
              "    border: 2px solid var(--fill-color);\n",
              "    border-color: transparent;\n",
              "    border-bottom-color: var(--fill-color);\n",
              "    animation:\n",
              "      spin 1s steps(1) infinite;\n",
              "  }\n",
              "\n",
              "  @keyframes spin {\n",
              "    0% {\n",
              "      border-color: transparent;\n",
              "      border-bottom-color: var(--fill-color);\n",
              "      border-left-color: var(--fill-color);\n",
              "    }\n",
              "    20% {\n",
              "      border-color: transparent;\n",
              "      border-left-color: var(--fill-color);\n",
              "      border-top-color: var(--fill-color);\n",
              "    }\n",
              "    30% {\n",
              "      border-color: transparent;\n",
              "      border-left-color: var(--fill-color);\n",
              "      border-top-color: var(--fill-color);\n",
              "      border-right-color: var(--fill-color);\n",
              "    }\n",
              "    40% {\n",
              "      border-color: transparent;\n",
              "      border-right-color: var(--fill-color);\n",
              "      border-top-color: var(--fill-color);\n",
              "    }\n",
              "    60% {\n",
              "      border-color: transparent;\n",
              "      border-right-color: var(--fill-color);\n",
              "    }\n",
              "    80% {\n",
              "      border-color: transparent;\n",
              "      border-right-color: var(--fill-color);\n",
              "      border-bottom-color: var(--fill-color);\n",
              "    }\n",
              "    90% {\n",
              "      border-color: transparent;\n",
              "      border-bottom-color: var(--fill-color);\n",
              "    }\n",
              "  }\n",
              "</style>\n",
              "\n",
              "  <script>\n",
              "    async function quickchart(key) {\n",
              "      const quickchartButtonEl =\n",
              "        document.querySelector('#' + key + ' button');\n",
              "      quickchartButtonEl.disabled = true;  // To prevent multiple clicks.\n",
              "      quickchartButtonEl.classList.add('colab-df-spinner');\n",
              "      try {\n",
              "        const charts = await google.colab.kernel.invokeFunction(\n",
              "            'suggestCharts', [key], {});\n",
              "      } catch (error) {\n",
              "        console.error('Error during call to suggestCharts:', error);\n",
              "      }\n",
              "      quickchartButtonEl.classList.remove('colab-df-spinner');\n",
              "      quickchartButtonEl.classList.add('colab-df-quickchart-complete');\n",
              "    }\n",
              "    (() => {\n",
              "      let quickchartButtonEl =\n",
              "        document.querySelector('#df-eeaba33c-d3b5-4f37-b1bd-d6218fc4b860 button');\n",
              "      quickchartButtonEl.style.display =\n",
              "        google.colab.kernel.accessAllowed ? 'block' : 'none';\n",
              "    })();\n",
              "  </script>\n",
              "</div>\n",
              "\n",
              "    </div>\n",
              "  </div>\n"
            ],
            "application/vnd.google.colaboratory.intrinsic+json": {
              "type": "dataframe",
              "summary": "{\n  \"name\": \"my_df\",\n  \"rows\": 5,\n  \"fields\": [\n    {\n      \"column\": \"sepal_length\",\n      \"properties\": {\n        \"dtype\": \"number\",\n        \"std\": 0.30331501776206193,\n        \"min\": 5.9,\n        \"max\": 6.7,\n        \"num_unique_values\": 5,\n        \"samples\": [\n          6.3,\n          5.9,\n          6.5\n        ],\n        \"semantic_type\": \"\",\n        \"description\": \"\"\n      }\n    },\n    {\n      \"column\": \"sepal_width\",\n      \"properties\": {\n        \"dtype\": \"number\",\n        \"std\": 0.31937438845342625,\n        \"min\": 2.5,\n        \"max\": 3.4,\n        \"num_unique_values\": 3,\n        \"samples\": [\n          3.0,\n          2.5,\n          3.4\n        ],\n        \"semantic_type\": \"\",\n        \"description\": \"\"\n      }\n    },\n    {\n      \"column\": \"petal_length\",\n      \"properties\": {\n        \"dtype\": \"number\",\n        \"std\": 0.14832396974191348,\n        \"min\": 5.0,\n        \"max\": 5.4,\n        \"num_unique_values\": 4,\n        \"samples\": [\n          5.0,\n          5.1,\n          5.2\n        ],\n        \"semantic_type\": \"\",\n        \"description\": \"\"\n      }\n    },\n    {\n      \"column\": \"petal_width\",\n      \"properties\": {\n        \"dtype\": \"number\",\n        \"std\": 0.23021728866442667,\n        \"min\": 1.8,\n        \"max\": 2.3,\n        \"num_unique_values\": 4,\n        \"samples\": [\n          1.9,\n          1.8,\n          2.3\n        ],\n        \"semantic_type\": \"\",\n        \"description\": \"\"\n      }\n    },\n    {\n      \"column\": \"species\",\n      \"properties\": {\n        \"dtype\": \"number\",\n        \"std\": 0.0,\n        \"min\": 2.0,\n        \"max\": 2.0,\n        \"num_unique_values\": 1,\n        \"samples\": [\n          2.0\n        ],\n        \"semantic_type\": \"\",\n        \"description\": \"\"\n      }\n    }\n  ]\n}"
            }
          },
          "metadata": {},
          "execution_count": 43
        }
      ]
    },
    {
      "cell_type": "code",
      "source": [
        "my_df"
      ],
      "metadata": {
        "id": "pgaIkFGGaDRn",
        "outputId": "49d1890e-9faf-4b9a-bf5b-49ab29952263",
        "colab": {
          "base_uri": "https://localhost:8080/",
          "height": 423
        }
      },
      "execution_count": 44,
      "outputs": [
        {
          "output_type": "execute_result",
          "data": {
            "text/plain": [
              "     sepal_length  sepal_width  petal_length  petal_width  species\n",
              "0             5.1          3.5           1.4          0.2      0.0\n",
              "1             4.9          3.0           1.4          0.2      0.0\n",
              "2             4.7          3.2           1.3          0.2      0.0\n",
              "3             4.6          3.1           1.5          0.2      0.0\n",
              "4             5.0          3.6           1.4          0.2      0.0\n",
              "..            ...          ...           ...          ...      ...\n",
              "145           6.7          3.0           5.2          2.3      2.0\n",
              "146           6.3          2.5           5.0          1.9      2.0\n",
              "147           6.5          3.0           5.2          2.0      2.0\n",
              "148           6.2          3.4           5.4          2.3      2.0\n",
              "149           5.9          3.0           5.1          1.8      2.0\n",
              "\n",
              "[150 rows x 5 columns]"
            ],
            "text/html": [
              "\n",
              "  <div id=\"df-dbf1e765-6eda-48c4-a7c0-66b3dd7da8db\" class=\"colab-df-container\">\n",
              "    <div>\n",
              "<style scoped>\n",
              "    .dataframe tbody tr th:only-of-type {\n",
              "        vertical-align: middle;\n",
              "    }\n",
              "\n",
              "    .dataframe tbody tr th {\n",
              "        vertical-align: top;\n",
              "    }\n",
              "\n",
              "    .dataframe thead th {\n",
              "        text-align: right;\n",
              "    }\n",
              "</style>\n",
              "<table border=\"1\" class=\"dataframe\">\n",
              "  <thead>\n",
              "    <tr style=\"text-align: right;\">\n",
              "      <th></th>\n",
              "      <th>sepal_length</th>\n",
              "      <th>sepal_width</th>\n",
              "      <th>petal_length</th>\n",
              "      <th>petal_width</th>\n",
              "      <th>species</th>\n",
              "    </tr>\n",
              "  </thead>\n",
              "  <tbody>\n",
              "    <tr>\n",
              "      <th>0</th>\n",
              "      <td>5.1</td>\n",
              "      <td>3.5</td>\n",
              "      <td>1.4</td>\n",
              "      <td>0.2</td>\n",
              "      <td>0.0</td>\n",
              "    </tr>\n",
              "    <tr>\n",
              "      <th>1</th>\n",
              "      <td>4.9</td>\n",
              "      <td>3.0</td>\n",
              "      <td>1.4</td>\n",
              "      <td>0.2</td>\n",
              "      <td>0.0</td>\n",
              "    </tr>\n",
              "    <tr>\n",
              "      <th>2</th>\n",
              "      <td>4.7</td>\n",
              "      <td>3.2</td>\n",
              "      <td>1.3</td>\n",
              "      <td>0.2</td>\n",
              "      <td>0.0</td>\n",
              "    </tr>\n",
              "    <tr>\n",
              "      <th>3</th>\n",
              "      <td>4.6</td>\n",
              "      <td>3.1</td>\n",
              "      <td>1.5</td>\n",
              "      <td>0.2</td>\n",
              "      <td>0.0</td>\n",
              "    </tr>\n",
              "    <tr>\n",
              "      <th>4</th>\n",
              "      <td>5.0</td>\n",
              "      <td>3.6</td>\n",
              "      <td>1.4</td>\n",
              "      <td>0.2</td>\n",
              "      <td>0.0</td>\n",
              "    </tr>\n",
              "    <tr>\n",
              "      <th>...</th>\n",
              "      <td>...</td>\n",
              "      <td>...</td>\n",
              "      <td>...</td>\n",
              "      <td>...</td>\n",
              "      <td>...</td>\n",
              "    </tr>\n",
              "    <tr>\n",
              "      <th>145</th>\n",
              "      <td>6.7</td>\n",
              "      <td>3.0</td>\n",
              "      <td>5.2</td>\n",
              "      <td>2.3</td>\n",
              "      <td>2.0</td>\n",
              "    </tr>\n",
              "    <tr>\n",
              "      <th>146</th>\n",
              "      <td>6.3</td>\n",
              "      <td>2.5</td>\n",
              "      <td>5.0</td>\n",
              "      <td>1.9</td>\n",
              "      <td>2.0</td>\n",
              "    </tr>\n",
              "    <tr>\n",
              "      <th>147</th>\n",
              "      <td>6.5</td>\n",
              "      <td>3.0</td>\n",
              "      <td>5.2</td>\n",
              "      <td>2.0</td>\n",
              "      <td>2.0</td>\n",
              "    </tr>\n",
              "    <tr>\n",
              "      <th>148</th>\n",
              "      <td>6.2</td>\n",
              "      <td>3.4</td>\n",
              "      <td>5.4</td>\n",
              "      <td>2.3</td>\n",
              "      <td>2.0</td>\n",
              "    </tr>\n",
              "    <tr>\n",
              "      <th>149</th>\n",
              "      <td>5.9</td>\n",
              "      <td>3.0</td>\n",
              "      <td>5.1</td>\n",
              "      <td>1.8</td>\n",
              "      <td>2.0</td>\n",
              "    </tr>\n",
              "  </tbody>\n",
              "</table>\n",
              "<p>150 rows × 5 columns</p>\n",
              "</div>\n",
              "    <div class=\"colab-df-buttons\">\n",
              "\n",
              "  <div class=\"colab-df-container\">\n",
              "    <button class=\"colab-df-convert\" onclick=\"convertToInteractive('df-dbf1e765-6eda-48c4-a7c0-66b3dd7da8db')\"\n",
              "            title=\"Convert this dataframe to an interactive table.\"\n",
              "            style=\"display:none;\">\n",
              "\n",
              "  <svg xmlns=\"http://www.w3.org/2000/svg\" height=\"24px\" viewBox=\"0 -960 960 960\">\n",
              "    <path d=\"M120-120v-720h720v720H120Zm60-500h600v-160H180v160Zm220 220h160v-160H400v160Zm0 220h160v-160H400v160ZM180-400h160v-160H180v160Zm440 0h160v-160H620v160ZM180-180h160v-160H180v160Zm440 0h160v-160H620v160Z\"/>\n",
              "  </svg>\n",
              "    </button>\n",
              "\n",
              "  <style>\n",
              "    .colab-df-container {\n",
              "      display:flex;\n",
              "      gap: 12px;\n",
              "    }\n",
              "\n",
              "    .colab-df-convert {\n",
              "      background-color: #E8F0FE;\n",
              "      border: none;\n",
              "      border-radius: 50%;\n",
              "      cursor: pointer;\n",
              "      display: none;\n",
              "      fill: #1967D2;\n",
              "      height: 32px;\n",
              "      padding: 0 0 0 0;\n",
              "      width: 32px;\n",
              "    }\n",
              "\n",
              "    .colab-df-convert:hover {\n",
              "      background-color: #E2EBFA;\n",
              "      box-shadow: 0px 1px 2px rgba(60, 64, 67, 0.3), 0px 1px 3px 1px rgba(60, 64, 67, 0.15);\n",
              "      fill: #174EA6;\n",
              "    }\n",
              "\n",
              "    .colab-df-buttons div {\n",
              "      margin-bottom: 4px;\n",
              "    }\n",
              "\n",
              "    [theme=dark] .colab-df-convert {\n",
              "      background-color: #3B4455;\n",
              "      fill: #D2E3FC;\n",
              "    }\n",
              "\n",
              "    [theme=dark] .colab-df-convert:hover {\n",
              "      background-color: #434B5C;\n",
              "      box-shadow: 0px 1px 3px 1px rgba(0, 0, 0, 0.15);\n",
              "      filter: drop-shadow(0px 1px 2px rgba(0, 0, 0, 0.3));\n",
              "      fill: #FFFFFF;\n",
              "    }\n",
              "  </style>\n",
              "\n",
              "    <script>\n",
              "      const buttonEl =\n",
              "        document.querySelector('#df-dbf1e765-6eda-48c4-a7c0-66b3dd7da8db button.colab-df-convert');\n",
              "      buttonEl.style.display =\n",
              "        google.colab.kernel.accessAllowed ? 'block' : 'none';\n",
              "\n",
              "      async function convertToInteractive(key) {\n",
              "        const element = document.querySelector('#df-dbf1e765-6eda-48c4-a7c0-66b3dd7da8db');\n",
              "        const dataTable =\n",
              "          await google.colab.kernel.invokeFunction('convertToInteractive',\n",
              "                                                    [key], {});\n",
              "        if (!dataTable) return;\n",
              "\n",
              "        const docLinkHtml = 'Like what you see? Visit the ' +\n",
              "          '<a target=\"_blank\" href=https://colab.research.google.com/notebooks/data_table.ipynb>data table notebook</a>'\n",
              "          + ' to learn more about interactive tables.';\n",
              "        element.innerHTML = '';\n",
              "        dataTable['output_type'] = 'display_data';\n",
              "        await google.colab.output.renderOutput(dataTable, element);\n",
              "        const docLink = document.createElement('div');\n",
              "        docLink.innerHTML = docLinkHtml;\n",
              "        element.appendChild(docLink);\n",
              "      }\n",
              "    </script>\n",
              "  </div>\n",
              "\n",
              "\n",
              "<div id=\"df-feddf0cb-253f-4d2e-ab12-5814f32d3217\">\n",
              "  <button class=\"colab-df-quickchart\" onclick=\"quickchart('df-feddf0cb-253f-4d2e-ab12-5814f32d3217')\"\n",
              "            title=\"Suggest charts\"\n",
              "            style=\"display:none;\">\n",
              "\n",
              "<svg xmlns=\"http://www.w3.org/2000/svg\" height=\"24px\"viewBox=\"0 0 24 24\"\n",
              "     width=\"24px\">\n",
              "    <g>\n",
              "        <path d=\"M19 3H5c-1.1 0-2 .9-2 2v14c0 1.1.9 2 2 2h14c1.1 0 2-.9 2-2V5c0-1.1-.9-2-2-2zM9 17H7v-7h2v7zm4 0h-2V7h2v10zm4 0h-2v-4h2v4z\"/>\n",
              "    </g>\n",
              "</svg>\n",
              "  </button>\n",
              "\n",
              "<style>\n",
              "  .colab-df-quickchart {\n",
              "      --bg-color: #E8F0FE;\n",
              "      --fill-color: #1967D2;\n",
              "      --hover-bg-color: #E2EBFA;\n",
              "      --hover-fill-color: #174EA6;\n",
              "      --disabled-fill-color: #AAA;\n",
              "      --disabled-bg-color: #DDD;\n",
              "  }\n",
              "\n",
              "  [theme=dark] .colab-df-quickchart {\n",
              "      --bg-color: #3B4455;\n",
              "      --fill-color: #D2E3FC;\n",
              "      --hover-bg-color: #434B5C;\n",
              "      --hover-fill-color: #FFFFFF;\n",
              "      --disabled-bg-color: #3B4455;\n",
              "      --disabled-fill-color: #666;\n",
              "  }\n",
              "\n",
              "  .colab-df-quickchart {\n",
              "    background-color: var(--bg-color);\n",
              "    border: none;\n",
              "    border-radius: 50%;\n",
              "    cursor: pointer;\n",
              "    display: none;\n",
              "    fill: var(--fill-color);\n",
              "    height: 32px;\n",
              "    padding: 0;\n",
              "    width: 32px;\n",
              "  }\n",
              "\n",
              "  .colab-df-quickchart:hover {\n",
              "    background-color: var(--hover-bg-color);\n",
              "    box-shadow: 0 1px 2px rgba(60, 64, 67, 0.3), 0 1px 3px 1px rgba(60, 64, 67, 0.15);\n",
              "    fill: var(--button-hover-fill-color);\n",
              "  }\n",
              "\n",
              "  .colab-df-quickchart-complete:disabled,\n",
              "  .colab-df-quickchart-complete:disabled:hover {\n",
              "    background-color: var(--disabled-bg-color);\n",
              "    fill: var(--disabled-fill-color);\n",
              "    box-shadow: none;\n",
              "  }\n",
              "\n",
              "  .colab-df-spinner {\n",
              "    border: 2px solid var(--fill-color);\n",
              "    border-color: transparent;\n",
              "    border-bottom-color: var(--fill-color);\n",
              "    animation:\n",
              "      spin 1s steps(1) infinite;\n",
              "  }\n",
              "\n",
              "  @keyframes spin {\n",
              "    0% {\n",
              "      border-color: transparent;\n",
              "      border-bottom-color: var(--fill-color);\n",
              "      border-left-color: var(--fill-color);\n",
              "    }\n",
              "    20% {\n",
              "      border-color: transparent;\n",
              "      border-left-color: var(--fill-color);\n",
              "      border-top-color: var(--fill-color);\n",
              "    }\n",
              "    30% {\n",
              "      border-color: transparent;\n",
              "      border-left-color: var(--fill-color);\n",
              "      border-top-color: var(--fill-color);\n",
              "      border-right-color: var(--fill-color);\n",
              "    }\n",
              "    40% {\n",
              "      border-color: transparent;\n",
              "      border-right-color: var(--fill-color);\n",
              "      border-top-color: var(--fill-color);\n",
              "    }\n",
              "    60% {\n",
              "      border-color: transparent;\n",
              "      border-right-color: var(--fill-color);\n",
              "    }\n",
              "    80% {\n",
              "      border-color: transparent;\n",
              "      border-right-color: var(--fill-color);\n",
              "      border-bottom-color: var(--fill-color);\n",
              "    }\n",
              "    90% {\n",
              "      border-color: transparent;\n",
              "      border-bottom-color: var(--fill-color);\n",
              "    }\n",
              "  }\n",
              "</style>\n",
              "\n",
              "  <script>\n",
              "    async function quickchart(key) {\n",
              "      const quickchartButtonEl =\n",
              "        document.querySelector('#' + key + ' button');\n",
              "      quickchartButtonEl.disabled = true;  // To prevent multiple clicks.\n",
              "      quickchartButtonEl.classList.add('colab-df-spinner');\n",
              "      try {\n",
              "        const charts = await google.colab.kernel.invokeFunction(\n",
              "            'suggestCharts', [key], {});\n",
              "      } catch (error) {\n",
              "        console.error('Error during call to suggestCharts:', error);\n",
              "      }\n",
              "      quickchartButtonEl.classList.remove('colab-df-spinner');\n",
              "      quickchartButtonEl.classList.add('colab-df-quickchart-complete');\n",
              "    }\n",
              "    (() => {\n",
              "      let quickchartButtonEl =\n",
              "        document.querySelector('#df-feddf0cb-253f-4d2e-ab12-5814f32d3217 button');\n",
              "      quickchartButtonEl.style.display =\n",
              "        google.colab.kernel.accessAllowed ? 'block' : 'none';\n",
              "    })();\n",
              "  </script>\n",
              "</div>\n",
              "\n",
              "  <div id=\"id_3befa919-7ff0-4e61-b4f9-c66ac3644ea3\">\n",
              "    <style>\n",
              "      .colab-df-generate {\n",
              "        background-color: #E8F0FE;\n",
              "        border: none;\n",
              "        border-radius: 50%;\n",
              "        cursor: pointer;\n",
              "        display: none;\n",
              "        fill: #1967D2;\n",
              "        height: 32px;\n",
              "        padding: 0 0 0 0;\n",
              "        width: 32px;\n",
              "      }\n",
              "\n",
              "      .colab-df-generate:hover {\n",
              "        background-color: #E2EBFA;\n",
              "        box-shadow: 0px 1px 2px rgba(60, 64, 67, 0.3), 0px 1px 3px 1px rgba(60, 64, 67, 0.15);\n",
              "        fill: #174EA6;\n",
              "      }\n",
              "\n",
              "      [theme=dark] .colab-df-generate {\n",
              "        background-color: #3B4455;\n",
              "        fill: #D2E3FC;\n",
              "      }\n",
              "\n",
              "      [theme=dark] .colab-df-generate:hover {\n",
              "        background-color: #434B5C;\n",
              "        box-shadow: 0px 1px 3px 1px rgba(0, 0, 0, 0.15);\n",
              "        filter: drop-shadow(0px 1px 2px rgba(0, 0, 0, 0.3));\n",
              "        fill: #FFFFFF;\n",
              "      }\n",
              "    </style>\n",
              "    <button class=\"colab-df-generate\" onclick=\"generateWithVariable('my_df')\"\n",
              "            title=\"Generate code using this dataframe.\"\n",
              "            style=\"display:none;\">\n",
              "\n",
              "  <svg xmlns=\"http://www.w3.org/2000/svg\" height=\"24px\"viewBox=\"0 0 24 24\"\n",
              "       width=\"24px\">\n",
              "    <path d=\"M7,19H8.4L18.45,9,17,7.55,7,17.6ZM5,21V16.75L18.45,3.32a2,2,0,0,1,2.83,0l1.4,1.43a1.91,1.91,0,0,1,.58,1.4,1.91,1.91,0,0,1-.58,1.4L9.25,21ZM18.45,9,17,7.55Zm-12,3A5.31,5.31,0,0,0,4.9,8.1,5.31,5.31,0,0,0,1,6.5,5.31,5.31,0,0,0,4.9,4.9,5.31,5.31,0,0,0,6.5,1,5.31,5.31,0,0,0,8.1,4.9,5.31,5.31,0,0,0,12,6.5,5.46,5.46,0,0,0,6.5,12Z\"/>\n",
              "  </svg>\n",
              "    </button>\n",
              "    <script>\n",
              "      (() => {\n",
              "      const buttonEl =\n",
              "        document.querySelector('#id_3befa919-7ff0-4e61-b4f9-c66ac3644ea3 button.colab-df-generate');\n",
              "      buttonEl.style.display =\n",
              "        google.colab.kernel.accessAllowed ? 'block' : 'none';\n",
              "\n",
              "      buttonEl.onclick = () => {\n",
              "        google.colab.notebook.generateWithVariable('my_df');\n",
              "      }\n",
              "      })();\n",
              "    </script>\n",
              "  </div>\n",
              "\n",
              "    </div>\n",
              "  </div>\n"
            ],
            "application/vnd.google.colaboratory.intrinsic+json": {
              "type": "dataframe",
              "variable_name": "my_df",
              "summary": "{\n  \"name\": \"my_df\",\n  \"rows\": 150,\n  \"fields\": [\n    {\n      \"column\": \"sepal_length\",\n      \"properties\": {\n        \"dtype\": \"number\",\n        \"std\": 0.828066127977863,\n        \"min\": 4.3,\n        \"max\": 7.9,\n        \"num_unique_values\": 35,\n        \"samples\": [\n          6.2,\n          4.5,\n          5.6\n        ],\n        \"semantic_type\": \"\",\n        \"description\": \"\"\n      }\n    },\n    {\n      \"column\": \"sepal_width\",\n      \"properties\": {\n        \"dtype\": \"number\",\n        \"std\": 0.4335943113621737,\n        \"min\": 2.0,\n        \"max\": 4.4,\n        \"num_unique_values\": 23,\n        \"samples\": [\n          2.3,\n          4.0,\n          3.5\n        ],\n        \"semantic_type\": \"\",\n        \"description\": \"\"\n      }\n    },\n    {\n      \"column\": \"petal_length\",\n      \"properties\": {\n        \"dtype\": \"number\",\n        \"std\": 1.7644204199522626,\n        \"min\": 1.0,\n        \"max\": 6.9,\n        \"num_unique_values\": 43,\n        \"samples\": [\n          6.7,\n          3.8,\n          3.7\n        ],\n        \"semantic_type\": \"\",\n        \"description\": \"\"\n      }\n    },\n    {\n      \"column\": \"petal_width\",\n      \"properties\": {\n        \"dtype\": \"number\",\n        \"std\": 0.7631607417008411,\n        \"min\": 0.1,\n        \"max\": 2.5,\n        \"num_unique_values\": 22,\n        \"samples\": [\n          0.2,\n          1.2,\n          1.3\n        ],\n        \"semantic_type\": \"\",\n        \"description\": \"\"\n      }\n    },\n    {\n      \"column\": \"species\",\n      \"properties\": {\n        \"dtype\": \"number\",\n        \"std\": 0.8192319205190405,\n        \"min\": 0.0,\n        \"max\": 2.0,\n        \"num_unique_values\": 3,\n        \"samples\": [\n          0.0,\n          1.0,\n          2.0\n        ],\n        \"semantic_type\": \"\",\n        \"description\": \"\"\n      }\n    }\n  ]\n}"
            }
          },
          "metadata": {},
          "execution_count": 44
        }
      ]
    },
    {
      "cell_type": "code",
      "source": [
        "#Train Test Split! set x,y\n",
        "X = my_df.drop('species',axis=1) #beacuse first four are features\n",
        "y = my_df['species'] #last one is output"
      ],
      "metadata": {
        "id": "segBQVqTagcD"
      },
      "execution_count": 45,
      "outputs": []
    },
    {
      "cell_type": "code",
      "source": [
        "X = X.values\n",
        "y = y.values"
      ],
      "metadata": {
        "id": "nTZymTNRbr8I"
      },
      "execution_count": 46,
      "outputs": []
    },
    {
      "cell_type": "code",
      "source": [
        "from sklearn.model_selection import train_test_split"
      ],
      "metadata": {
        "id": "RwWawrT4bwYT"
      },
      "execution_count": 47,
      "outputs": []
    },
    {
      "cell_type": "code",
      "source": [
        "#Train test Split\n",
        "X_train,X_test,y_train,y_test = train_test_split(X,y,test_size=0.2,random_state=33)"
      ],
      "metadata": {
        "id": "fs4MTJISb4WI"
      },
      "execution_count": 48,
      "outputs": []
    },
    {
      "cell_type": "code",
      "source": [
        "#Convert X features to float tensors\n",
        "X_train = torch.FloatTensor(X_train)\n",
        "X_test = torch.FloatTensor(X_test)\n"
      ],
      "metadata": {
        "id": "tiMMN4HzcQ-N"
      },
      "execution_count": 49,
      "outputs": []
    },
    {
      "cell_type": "code",
      "source": [
        "#COnevert y features to float\n",
        "y_train = torch.FloatTensor(y_train)\n",
        "y_test = torch.FloatTensor(y_test)\n"
      ],
      "metadata": {
        "id": "h-bQzO-vc0X_"
      },
      "execution_count": 50,
      "outputs": []
    },
    {
      "cell_type": "code",
      "source": [
        "#set the criterion of model to measure the error, how far off the predictions are from\n",
        "criterion = nn.CrossEntropyLoss()\n",
        "#Choose Adam Optimizer, lr = learning rate(if error doesn't go down after a bunch of iteration () epochs, lower learning rate )\n",
        "optimizer = torch.optim.Adam(model.parameters(),lr=0.01)"
      ],
      "metadata": {
        "id": "frjzypPdc4p_"
      },
      "execution_count": 51,
      "outputs": []
    },
    {
      "cell_type": "code",
      "source": [
        "#Train our model\n",
        "# Epochs> (one run through all the training data in our network)\n",
        "epochs = 100\n",
        "losses = []\n",
        "for i in range(epochs):\n",
        "  #GO gorward and get a prediction\n",
        "  y_pred = model.forward(X_train)\n",
        "  #calculate the loss, gonna be high at first\n",
        "  loss = criterion(y_pred,y_train.long())\n",
        "\n",
        "\n",
        "  #keep track of our losses\n",
        "  losses.append(loss.detach().numpy())\n",
        "\n",
        "  #print every 10 epoch\n",
        "  if i % 10 == 0:\n",
        "    print(f'Epoch:{i} and loss {loss}')\n",
        "\n",
        "  #Do some back propogation: take the error rate of forward propagarion and feed it back\n",
        "  #through the network to fone tune the weight\n",
        "  optimizer.zero_grad()\n",
        "  loss.backward()\n",
        "  optimizer.step()"
      ],
      "metadata": {
        "id": "KfTthvYOdfD4",
        "outputId": "7b5c6c9d-d94a-4f8a-cc67-d679e9d50e01",
        "colab": {
          "base_uri": "https://localhost:8080/"
        }
      },
      "execution_count": 52,
      "outputs": [
        {
          "output_type": "stream",
          "name": "stdout",
          "text": [
            "Epoch:0 and loss 1.1507114171981812\n",
            "Epoch:10 and loss 0.9377315044403076\n",
            "Epoch:20 and loss 0.7798256278038025\n",
            "Epoch:30 and loss 0.6099401712417603\n",
            "Epoch:40 and loss 0.40079930424690247\n",
            "Epoch:50 and loss 0.25436317920684814\n",
            "Epoch:60 and loss 0.15053048729896545\n",
            "Epoch:70 and loss 0.10086944699287415\n",
            "Epoch:80 and loss 0.08128313720226288\n",
            "Epoch:90 and loss 0.07231426984071732\n"
          ]
        }
      ]
    },
    {
      "cell_type": "code",
      "source": [
        "#Graph it out!\n",
        "plt.plot(range(epochs),losses)\n",
        "plt.ylabel('loss/error')\n",
        "plt.xlabel('epoch')"
      ],
      "metadata": {
        "id": "QN05PLdQezSx",
        "outputId": "9493fb73-b434-47d2-d8ce-de8864625e0f",
        "colab": {
          "base_uri": "https://localhost:8080/",
          "height": 470
        }
      },
      "execution_count": 55,
      "outputs": [
        {
          "output_type": "execute_result",
          "data": {
            "text/plain": [
              "Text(0.5, 0, 'epoch')"
            ]
          },
          "metadata": {},
          "execution_count": 55
        },
        {
          "output_type": "display_data",
          "data": {
            "text/plain": [
              "<Figure size 640x480 with 1 Axes>"
            ],
            "image/png": "[encoded data removed]"
          },
          "metadata": {}
        }
      ]
    },
    {
      "cell_type": "code",
      "source": [],
      "metadata": {
        "id": "vB7rkxZLd5ZS"
      },
      "execution_count": 53,
      "outputs": []
    },
    {
      "cell_type": "code",
      "source": [
        "#evaluate model on test data set\n",
        "with torch.no_grad():  #turn off back propogation\n",
        "  y_eval = model.forward(X_test) #X_test are features from our test set, y_eval is the output\n",
        "  loss = criterion(y_eval,y_test.long()) #find error\n",
        "  loss"
      ],
      "metadata": {
        "id": "inNg6xIret6f"
      },
      "execution_count": 61,
      "outputs": []
    },
    {
      "cell_type": "code",
      "source": [
        "correct = 0\n",
        "with torch.no_grad():\n",
        "  for i,data in enumerate(X_test):\n",
        "    y_val = model.forward(data)\n",
        "\n",
        "    if y_test[i] == 0.0:\n",
        "      x = \"setosa\"\n",
        "    elif y_test[i] == 1.0:\n",
        "      x = \"versicolor\"\n",
        "    else:\n",
        "      x = \"virginica\"\n",
        "\n",
        "\n",
        "\n",
        "    #will tell which class is flower belongs to\n",
        "    print(f'{i+1} {str(y_val)} \\t\\t{x} \\t\\t{y_val.argmax().item()}' ) # Add missing parenthesis\n",
        "\n",
        "    #correct or not\n",
        "    if y_val.argmax().item() == y_test[i].item(): # Compare items, not tensors\n",
        "      correct+=1\n",
        "print(f'We got {correct} correct')"
      ],
      "metadata": {
        "colab": {
          "base_uri": "https://localhost:8080/"
        },
        "id": "d3TSqDQ9mTaB",
        "outputId": "6b293fae-8f8f-4f2a-e894-0e6a966cb9e6"
      },
      "execution_count": 71,
      "outputs": [
        {
          "output_type": "stream",
          "name": "stdout",
          "text": [
            "1 tensor([-2.1252,  4.8064, -0.8628]) \t\tversicolor \t\t1\n",
            "2 tensor([-1.7985,  5.3098, -1.5449]) \t\tversicolor \t\t1\n",
            "3 tensor([  6.3542,   0.8438, -10.0541]) \t\tsetosa \t\t0\n",
            "4 tensor([-3.9123,  4.5958,  1.1693]) \t\tversicolor \t\t1\n",
            "5 tensor([-7.4713,  3.2021,  5.7853]) \t\tvirginica \t\t2\n",
            "6 tensor([-10.4976,   1.6459,   9.6297]) \t\tvirginica \t\t2\n",
            "7 tensor([  6.3201,   0.9917, -10.1532]) \t\tsetosa \t\t0\n",
            "8 tensor([  7.0468,   0.7059, -10.9137]) \t\tsetosa \t\t0\n",
            "9 tensor([-7.2061,  3.3477,  5.3565]) \t\tvirginica \t\t2\n",
            "10 tensor([-9.3960,  2.5759,  8.1033]) \t\tvirginica \t\t2\n",
            "11 tensor([-9.8808,  2.3475,  8.7141]) \t\tvirginica \t\t2\n",
            "12 tensor([ 6.2748,  0.6655, -9.7613]) \t\tsetosa \t\t0\n",
            "13 tensor([-9.3142,  2.1880,  8.1947]) \t\tvirginica \t\t2\n",
            "14 tensor([-3.7803,  4.5050,  1.0752]) \t\tversicolor \t\t1\n",
            "15 tensor([-7.8657,  3.0117,  6.2303]) \t\tvirginica \t\t2\n",
            "16 tensor([-1.8867,  5.1572, -1.3345]) \t\tversicolor \t\t1\n",
            "17 tensor([-5.7006,  3.5030,  3.6696]) \t\tvirginica \t\t2\n",
            "18 tensor([  7.1789,   0.7369, -11.1350]) \t\tsetosa \t\t0\n",
            "19 tensor([-3.2944,  4.7931,  0.3475]) \t\tversicolor \t\t1\n",
            "20 tensor([-7.7665,  3.7629,  5.7095]) \t\tvirginica \t\t2\n",
            "21 tensor([  6.6499,   0.7889, -10.4252]) \t\tsetosa \t\t0\n",
            "22 tensor([  7.4357,   0.8918, -11.6600]) \t\tsetosa \t\t0\n",
            "23 tensor([-9.7584,  2.1744,  8.6654]) \t\tvirginica \t\t2\n",
            "24 tensor([  6.5770,   0.7421, -10.2733]) \t\tsetosa \t\t0\n",
            "25 tensor([-7.4144,  2.8719,  5.9445]) \t\tvirginica \t\t2\n",
            "26 tensor([-6.1551,  3.4031,  4.2300]) \t\tvirginica \t\t2\n",
            "27 tensor([-3.1634,  4.7460,  0.2703]) \t\tversicolor \t\t1\n",
            "28 tensor([-1.5446,  4.9031, -1.5557]) \t\tversicolor \t\t1\n",
            "29 tensor([-7.4335,  3.1101,  5.7350]) \t\tvirginica \t\t2\n",
            "30 tensor([-6.7037,  3.1187,  4.9595]) \t\tvirginica \t\t2\n",
            "We got 30 correct\n"
          ]
        }
      ]
    },
    {
      "cell_type": "code",
      "source": [
        "new_iris = torch.tensor([4.7,3.2,1.3,0.2])"
      ],
      "metadata": {
        "id": "_b-SC2_Voh62"
      },
      "execution_count": 72,
      "outputs": []
    },
    {
      "cell_type": "code",
      "source": [
        "with torch.no_grad():\n",
        "  print(model.forward(new_iris))\n",
        "  print(model.forward(new_iris).argmax().item())"
      ],
      "metadata": {
        "colab": {
          "base_uri": "https://localhost:8080/"
        },
        "id": "Ltij04s4suGv",
        "outputId": "ce9030b9-cadd-428e-fc05-1e3b61b3fc5e"
      },
      "execution_count": 73,
      "outputs": [
        {
          "output_type": "stream",
          "name": "stdout",
          "text": [
            "tensor([  6.7236,   0.6355, -10.3777])\n",
            "0\n"
          ]
        }
      ]
    },
    {
      "cell_type": "code",
      "source": [
        "newer_irsis = torch.tensor([5.9,3.0,5.1,1.8])\n",
        "  #will tell which class is flower belongs to\n",
        "with torch.no_grad():\n",
        "  print(model.forward(newer_irsis))\n",
        "  print(model.forward(newer_irsis).argmax().item())\n",
        "#"
      ],
      "metadata": {
        "colab": {
          "base_uri": "https://localhost:8080/"
        },
        "id": "lt9-DVmFsy6_",
        "outputId": "ecaa6ab5-01a0-4876-8fe9-07439fc527f3"
      },
      "execution_count": 75,
      "outputs": [
        {
          "output_type": "stream",
          "name": "stdout",
          "text": [
            "tensor([-6.7037,  3.1187,  4.9595])\n",
            "2\n"
          ]
        }
      ]
    },
    {
      "cell_type": "code",
      "source": [
        "#save our NN Model\n",
        "torch.save(model.state_dict(),'model.pt') #.pt file"
      ],
      "metadata": {
        "id": "7ureSuAbtJux"
      },
      "execution_count": 77,
      "outputs": []
    },
    {
      "cell_type": "code",
      "source": [
        "#Load saves model\n",
        "new_model = Model()\n",
        "new_model.load_state_dict(torch.load('model.pt'))"
      ],
      "metadata": {
        "id": "yoHuCNBDtuvC",
        "outputId": "f2e5f185-9fea-4e32-ea11-8187f9700c81",
        "colab": {
          "base_uri": "https://localhost:8080/"
        }
      },
      "execution_count": 78,
      "outputs": [
        {
          "output_type": "execute_result",
          "data": {
            "text/plain": [
              "<All keys matched successfully>"
            ]
          },
          "metadata": {},
          "execution_count": 78
        }
      ]
    },
    {
      "cell_type": "code",
      "source": [
        "#make sure it load correct\n",
        "new_model.eval()"
      ],
      "metadata": {
        "id": "wvSpwDhVuJss",
        "outputId": "4a6ed959-f9bb-4c59-9985-32a7a5e5dc9b",
        "colab": {
          "base_uri": "https://localhost:8080/"
        }
      },
      "execution_count": 79,
      "outputs": [
        {
          "output_type": "execute_result",
          "data": {
            "text/plain": [
              "Model(\n",
              "  (fc1): Linear(in_features=4, out_features=8, bias=True)\n",
              "  (fc2): Linear(in_features=8, out_features=9, bias=True)\n",
              "  (out): Linear(in_features=9, out_features=3, bias=True)\n",
              ")"
            ]
          },
          "metadata": {},
          "execution_count": 79
        }
      ]
    },
    {
      "cell_type": "markdown",
      "source": [
        "**CNN**"
      ],
      "metadata": {
        "id": "3kUof7D9vIoW"
      }
    },
    {
      "cell_type": "markdown",
      "source": [
        "![Screenshot 2024-08-16 112735.png](data:image/png;base64,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)"
      ],
      "metadata": {
        "id": "whTggsifw2Ka"
      }
    },
    {
      "cell_type": "code",
      "source": [],
      "metadata": {
        "id": "LAVQHWW3uO2r"
      },
      "execution_count": null,
      "outputs": []
    }
  ]
}